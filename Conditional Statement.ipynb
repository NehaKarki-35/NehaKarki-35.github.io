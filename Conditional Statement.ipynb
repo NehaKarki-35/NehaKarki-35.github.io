{
 "cells": [
  {
   "cell_type": "markdown",
   "id": "6cdef1fa-e218-4847-9257-892affb25470",
   "metadata": {},
   "source": [
    "# Python Conditions and If statements\n",
    "***Python supports the usual logical conditions from mathematics:***\n",
    "\n"
   ]
  },
  {
   "cell_type": "markdown",
   "id": "a3cd46fc-370b-438d-bb8c-1129a125526f",
   "metadata": {},
   "source": [
    "***Equals: a == b***"
   ]
  },
  {
   "cell_type": "markdown",
   "id": "3eacd61f-b875-4b63-9b2e-0d10d66b7f1d",
   "metadata": {},
   "source": [
    "***Not Equals: a != b***\n"
   ]
  },
  {
   "cell_type": "markdown",
   "id": "9a0a1d14-b958-4ada-9e2b-025e0a2f5781",
   "metadata": {},
   "source": [
    "***Less than: a < b***"
   ]
  },
  {
   "cell_type": "markdown",
   "id": "4ba3ed99-1372-4d66-92ad-6043e2412c0d",
   "metadata": {},
   "source": [
    "***Less than or equal to: a <= b***"
   ]
  },
  {
   "cell_type": "markdown",
   "id": "c9c3f66f-aac2-403c-9f07-8b3ab24c42cf",
   "metadata": {},
   "source": [
    "***Greater than: a > b***"
   ]
  },
  {
   "cell_type": "markdown",
   "id": "2c030db0-785b-4008-87dd-6afb5999146b",
   "metadata": {},
   "source": [
    "***Greater than or equal to: a >= b***"
   ]
  },
  {
   "cell_type": "markdown",
   "id": "6449ac7b-fde4-43dd-97b8-829e495a9687",
   "metadata": {},
   "source": [
    "# What are Conditional Statements ?\n",
    "***Conditional statements in Python are used to execute certain blocks of code based on specific\n",
    "conditions. These statements help control the flow of a program, making it behave differently in different situations.***"
   ]
  },
  {
   "cell_type": "markdown",
   "id": "045b0d60-9a89-457b-8707-a1e0c848e031",
   "metadata": {},
   "source": [
    "# Example"
   ]
  },
  {
   "cell_type": "code",
   "execution_count": 21,
   "id": "5c9ef533-4247-4788-8e87-5e8408ee1a84",
   "metadata": {},
   "outputs": [
    {
     "name": "stdout",
     "output_type": "stream",
     "text": [
      "you are eligible for a driving license\n"
     ]
    }
   ],
   "source": [
    "age=18\n",
    "if age >= 18:\n",
    "    print(\"you are eligible for a driving license\")\n",
    "else:\n",
    "    print(\"not eligible\")"
   ]
  },
  {
   "cell_type": "code",
   "execution_count": 20,
   "id": "79631a8d-ad1e-4f8f-af00-d70e99c86e8f",
   "metadata": {},
   "outputs": [
    {
     "name": "stdout",
     "output_type": "stream",
     "text": [
      "equals\n"
     ]
    }
   ],
   "source": [
    "num1=20\n",
    "num2=20\n",
    "if num1 == num2:\n",
    "    print(\"equals\")\n",
    "else:\n",
    "    print(\"not equals\")"
   ]
  },
  {
   "cell_type": "code",
   "execution_count": 19,
   "id": "f5e44ca3-f29a-43c2-acfb-ac04bfba0cb5",
   "metadata": {},
   "outputs": [
    {
     "name": "stdout",
     "output_type": "stream",
     "text": [
      "not equals\n"
     ]
    }
   ],
   "source": [
    "dig1=34\n",
    "dig2=45\n",
    "if dig1 != dig2:\n",
    "    print(\"not equals\")\n",
    "else:\n",
    "    print(\"equals\")"
   ]
  },
  {
   "cell_type": "code",
   "execution_count": 18,
   "id": "6e22e510-733c-462a-ad2e-1f4b1ed3cda9",
   "metadata": {},
   "outputs": [
    {
     "name": "stdout",
     "output_type": "stream",
     "text": [
      "pass\n"
     ]
    }
   ],
   "source": [
    "marks=100\n",
    "if marks > 33:\n",
    "    print(\"pass\")\n",
    "else:\n",
    "    print(\"fail\")"
   ]
  },
  {
   "cell_type": "code",
   "execution_count": 16,
   "id": "68aa0da4-588b-45cd-9ca1-7d3cb3b3b7ca",
   "metadata": {},
   "outputs": [
    {
     "name": "stdin",
     "output_type": "stream",
     "text": [
      "enter vowels: e\n"
     ]
    },
    {
     "name": "stdout",
     "output_type": "stream",
     "text": [
      "this is vowels\n"
     ]
    }
   ],
   "source": [
    "vowel=input(\"enter vowels:\")\n",
    "if vowel == 'a' or vowel == 'e' or  vowel == 'i' or  vowel == 'o' or  vowel == 'u' :\n",
    "    print(\"this is vowels\")\n",
    "else:\n",
    "    print(\"this is not vowels\")"
   ]
  },
  {
   "cell_type": "markdown",
   "id": "d1142f99-897c-4cc5-86fb-23a605aca7e7",
   "metadata": {},
   "source": [
    "***Take a number from the user and check if it is even or odd.***"
   ]
  },
  {
   "cell_type": "code",
   "execution_count": 4,
   "id": "0780275b-9ef7-4e3a-b787-feda51902dc8",
   "metadata": {},
   "outputs": [
    {
     "name": "stdin",
     "output_type": "stream",
     "text": [
      "enter any number: 3\n"
     ]
    },
    {
     "name": "stdout",
     "output_type": "stream",
     "text": [
      "odd\n"
     ]
    }
   ],
   "source": [
    "num=int(input(\"enter any number:\"))\n",
    "if num % 2 == 0:\n",
    "    print(\"even\")\n",
    "else:\n",
    "    print(\"odd\")"
   ]
  },
  {
   "cell_type": "markdown",
   "id": "986b361f-4805-480d-8a72-0fbad6e91071",
   "metadata": {},
   "source": [
    "***Input three numbers and print the largest number.***"
   ]
  },
  {
   "cell_type": "code",
   "execution_count": 11,
   "id": "23a3672b-90fb-4694-97da-1ae1d5f59be6",
   "metadata": {},
   "outputs": [
    {
     "name": "stdin",
     "output_type": "stream",
     "text": [
      "enter 1st num: 8\n",
      "enter 2nd number: 2\n",
      "enter 3rd number: 4\n"
     ]
    },
    {
     "name": "stdout",
     "output_type": "stream",
     "text": [
      "8 is largest number\n"
     ]
    }
   ],
   "source": [
    "num1=int(input(\"enter 1st num:\"))\n",
    "num2=int(input(\"enter 2nd number:\"))\n",
    "num3=int(input(\"enter 3rd number:\"))\n",
    "if num1 > num2:\n",
    "    print(f\"{num1} is largest number\")\n",
    "elif num1 > num3:\n",
    "    print(f\"{num1} is largest number\")\n",
    "elif num2 > num1:\n",
    "    print(f\"{num2} is largest number\")\n",
    "elif num2 > num3:\n",
    "    print(f\"{num2} is largest number\")\n",
    "elif num3 > num1:\n",
    "    print(f\"{num3} is largest num\")\n",
    "else:\n",
    "    print(\"invalid\")\n",
    "         "
   ]
  },
  {
   "cell_type": "markdown",
   "id": "1151a178-f1f9-4678-9ab9-43e369c13474",
   "metadata": {},
   "source": [
    "***weather condition (cold, warm, hot).***"
   ]
  },
  {
   "cell_type": "code",
   "execution_count": 18,
   "id": "6e96de5e-6432-4fb3-9791-81d4b295c228",
   "metadata": {},
   "outputs": [
    {
     "name": "stdin",
     "output_type": "stream",
     "text": [
      "enter number: 31\n"
     ]
    },
    {
     "name": "stdout",
     "output_type": "stream",
     "text": [
      "warm\n"
     ]
    }
   ],
   "source": [
    "temp=int(input(\"enter number:\"))\n",
    "if temp >= 45:\n",
    "    print(\"hot\")\n",
    "elif temp > 30:\n",
    "    print(\"warm\")\n",
    "elif temp > 20:\n",
    "    print(\"cold\")\n",
    "else:\n",
    "    print(\"very cold\")\n",
    "    "
   ]
  },
  {
   "cell_type": "markdown",
   "id": "33188634-f6ea-40fa-aa5f-f16f60c6f88b",
   "metadata": {},
   "source": [
    "***Multiple Conditions & Logic***"
   ]
  },
  {
   "cell_type": "markdown",
   "id": "ca6b2f2c-c8fc-4f3e-9bd7-3d62a7684a0c",
   "metadata": {},
   "source": [
    "***Day name (Monday to Sunday).***"
   ]
  },
  {
   "cell_type": "code",
   "execution_count": 22,
   "id": "180ba812-d297-452f-a3fd-787221d06564",
   "metadata": {},
   "outputs": [
    {
     "name": "stdin",
     "output_type": "stream",
     "text": [
      "Enter Month Name: 9\n"
     ]
    },
    {
     "name": "stdout",
     "output_type": "stream",
     "text": [
      "===This number is invalid for month name===\n"
     ]
    }
   ],
   "source": [
    "Month_name=int(input(\"Enter Month Name:\"))\n",
    "if Month_name == 1:\n",
    "    print(\"==Monday==\")\n",
    "elif Month_name == 2:\n",
    "    print(\"==Tuesday==\")\n",
    "elif Month_name == 3:\n",
    "    print(\"==Wednesday==\")\n",
    "elif Month_name == 4:\n",
    "    print(\"==Thuesday==\")\n",
    "elif Month_name == 5:\n",
    "    print(\"==Friday==\")\n",
    "elif Month_name == 6:\n",
    "    print(\"==Saturday==\")\n",
    "elif Month_name == 7:\n",
    "    print(\"==Sunday==\")\n",
    "else:\n",
    "    print(\"===This number is invalid for month name===\")"
   ]
  },
  {
   "cell_type": "markdown",
   "id": "7cf19e09-e178-4765-ba15-ed517ebf977e",
   "metadata": {},
   "source": [
    "# Two numbers and an operator (+, -, *, /)"
   ]
  },
  {
   "cell_type": "code",
   "execution_count": 33,
   "id": "29579d46-95ea-4f2d-91fe-7793bd504969",
   "metadata": {},
   "outputs": [
    {
     "name": "stdin",
     "output_type": "stream",
     "text": [
      "enter any 1st number: 8\n",
      "enter any 2nd number: 9\n",
      "enter operator(+ ,-, *, / ): *\n"
     ]
    },
    {
     "name": "stdout",
     "output_type": "stream",
     "text": [
      "result 72\n"
     ]
    }
   ],
   "source": [
    "dig1=int(input(\"enter any 1st number:\"))\n",
    "dig2=int(input(\"enter any 2nd number:\"))\n",
    "opretor=input(\"enter operator(+ ,-, *, / ):\")\n",
    "if opretor == '+':\n",
    "    result=dig1+dig2\n",
    "elif opretor == '-':\n",
    "    result=dig1-dig2\n",
    "elif opretor == '*':\n",
    "    result=dig1*dig2 \n",
    "elif opretor == '/':\n",
    "    if dig2 != 0:\n",
    "        result=dig1/dig2\n",
    "    else:\n",
    "        result=\"zero is not divided\"\n",
    "else:\n",
    "    result=\"wrong opertor\"\n",
    "print(\"result\", result)"
   ]
  },
  {
   "cell_type": "markdown",
   "id": "229392f6-6387-431a-924c-0c0a12c5d4fe",
   "metadata": {},
   "source": []
  },
  {
   "cell_type": "markdown",
   "id": "0faa1ea4-563a-4503-89b1-37917d383815",
   "metadata": {},
   "source": [
    "***Number is positive, negative, or zero.***"
   ]
  },
  {
   "cell_type": "code",
   "execution_count": 22,
   "id": "271201ed-720f-41b0-9831-d9c8c32191be",
   "metadata": {},
   "outputs": [
    {
     "name": "stdin",
     "output_type": "stream",
     "text": [
      "enter num: 2\n"
     ]
    },
    {
     "name": "stdout",
     "output_type": "stream",
     "text": [
      "Positive\n"
     ]
    }
   ],
   "source": [
    "num=int(input(\"enter num:\"))\n",
    "if num > 0:\n",
    "    print(\"Positive\")\n",
    "elif num < 0:\n",
    "    print(\"Negative\")\n",
    "else:\n",
    "    print(\"the number is zero\")\n",
    "    "
   ]
  },
  {
   "cell_type": "markdown",
   "id": "c53362f2-8e2e-4f23-9ea4-609ec2d82312",
   "metadata": {},
   "source": [
    "***Username***"
   ]
  },
  {
   "cell_type": "code",
   "execution_count": 24,
   "id": "76852b74-fd40-4440-85d3-677fcac664fe",
   "metadata": {},
   "outputs": [
    {
     "name": "stdin",
     "output_type": "stream",
     "text": [
      "enter your full name: neha\n"
     ]
    },
    {
     "name": "stdout",
     "output_type": "stream",
     "text": [
      "Welcome neha\n"
     ]
    }
   ],
   "source": [
    "User_name=input(\"enter your full name:\")\n",
    "if len(User_name) > 12:\n",
    "    print(\"your username can not be more than 12 char\")\n",
    "elif not User_name.find(\" \"):\n",
    "    print(\"your username can not be contains space\")\n",
    "elif not User_name.isalpha():\n",
    "    print(\"your username can not be contains digits\")\n",
    "else:\n",
    "    print(f\"Welcome {User_name}\")"
   ]
  },
  {
   "cell_type": "code",
   "execution_count": null,
   "id": "c0d9bea9-b843-4b85-a172-8de6bbdb9fb0",
   "metadata": {},
   "outputs": [],
   "source": []
  }
 ],
 "metadata": {
  "kernelspec": {
   "display_name": "Python 3 (ipykernel)",
   "language": "python",
   "name": "python3"
  },
  "language_info": {
   "codemirror_mode": {
    "name": "ipython",
    "version": 3
   },
   "file_extension": ".py",
   "mimetype": "text/x-python",
   "name": "python",
   "nbconvert_exporter": "python",
   "pygments_lexer": "ipython3",
   "version": "3.13.5"
  }
 },
 "nbformat": 4,
 "nbformat_minor": 5
}
